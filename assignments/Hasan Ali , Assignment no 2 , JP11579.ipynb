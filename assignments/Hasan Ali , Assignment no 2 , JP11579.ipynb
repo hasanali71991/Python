{
 "cells": [
  {
   "cell_type": "code",
   "execution_count": 38,
   "id": "20ae51a2",
   "metadata": {},
   "outputs": [
    {
     "name": "stdout",
     "output_type": "stream",
     "text": [
      "PERCENTAGE = 84.0\n",
      "GRADE : A-one\n",
      "TOTAL NUMBERS = 300\n",
      "OBTAINED NUMBERS = 252\n"
     ]
    }
   ],
   "source": [
    "English = 75 ;\n",
    "Islamiat = 84 ;\n",
    "math = 93 ;\n",
    "obtained_marks = English+Islamiat+math;\n",
    "total_marks =  300 ;\n",
    "\n",
    "percentage = (obtained_marks*100)/total_marks \n",
    "\n",
    "print(\"PERCENTAGE =\",percentage);\n",
    "if percentage < 100 and percentage > 80 :\n",
    "    print(\"GRADE : A-one\") ;\n",
    "elif percentage < 80 and percentage > 70 :\n",
    "    print(\"GRADE : A\") ;\n",
    "elif percentage < 70 and percentage > 60 :\n",
    "    print (\"GRADE : B\");\n",
    "elif percentage < 60 and percentage > 50 :\n",
    "    print (\"GRADE : C\");\n",
    "elif percentage < 50 and percentage > 40 :\n",
    "    print (\"GRADE : D\");\n",
    "elif percentage < 40 and percentage > 30 :\n",
    "    print (\"GRADE E\");\n",
    "else :\n",
    "    print(\"RESULT = FAIL\");\n",
    "\n",
    "print(\"TOTAL NUMBERS =\",total_marks);\n",
    "print(\"OBTAINED NUMBERS =\",obtained_marks);\n",
    "    \n",
    "\n",
    "\n"
   ]
  },
  {
   "cell_type": "code",
   "execution_count": null,
   "id": "bd1a72e2",
   "metadata": {},
   "outputs": [],
   "source": []
  },
  {
   "cell_type": "code",
   "execution_count": null,
   "id": "e2416831",
   "metadata": {},
   "outputs": [],
   "source": []
  },
  {
   "cell_type": "code",
   "execution_count": null,
   "id": "7fe863d5",
   "metadata": {},
   "outputs": [],
   "source": []
  },
  {
   "cell_type": "code",
   "execution_count": null,
   "id": "b9d1a486",
   "metadata": {},
   "outputs": [],
   "source": []
  }
 ],
 "metadata": {
  "kernelspec": {
   "display_name": "Python 3",
   "language": "python",
   "name": "python3"
  },
  "language_info": {
   "codemirror_mode": {
    "name": "ipython",
    "version": 3
   },
   "file_extension": ".py",
   "mimetype": "text/x-python",
   "name": "python",
   "nbconvert_exporter": "python",
   "pygments_lexer": "ipython3",
   "version": "3.8.8"
  }
 },
 "nbformat": 4,
 "nbformat_minor": 5
}
